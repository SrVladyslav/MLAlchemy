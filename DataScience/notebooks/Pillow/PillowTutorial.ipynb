{
 "cells": [
  {
   "cell_type": "markdown",
   "metadata": {},
   "source": [
    "This document is created to remember and have some stuff about Pillow Library to copy paste in the future"
   ]
  },
  {
   "cell_type": "code",
   "execution_count": 1,
   "metadata": {},
   "outputs": [],
   "source": [
    "# General variables \n",
    "DATA_PATH = './../../../data/pillow_data/'\n",
    "IMG_PATH = './../../../data/cat.jpg'\n",
    "\n",
    "THUMBNAIL_SIZE = (64, 64)\n"
   ]
  },
  {
   "cell_type": "code",
   "execution_count": 2,
   "metadata": {},
   "outputs": [
    {
     "name": "stdout",
     "output_type": "stream",
     "text": [
      "JPEG (340, 340) RGB\n"
     ]
    }
   ],
   "source": [
    "from PIL import Image\n",
    "\n",
    "# Load an Image from scraptch and obtain its full info\n",
    "img = Image.open(IMG_PATH)      # Image reading from the disk\n",
    "\n",
    "print(\n",
    "    img.format,                 # Image format (JPG, PNG, PPT...)\n",
    "    img.size,                   # Image Size XY\n",
    "    img.mode                    # Image mode, RGB or black & whites\n",
    ")\n",
    "\n",
    "img.show()"
   ]
  },
  {
   "cell_type": "markdown",
   "metadata": {},
   "source": [
    "[1] Creating a PNG thumbnails"
   ]
  },
  {
   "cell_type": "code",
   "execution_count": 37,
   "metadata": {},
   "outputs": [],
   "source": [
    "img = Image.open(IMG_PATH)\n",
    "\n",
    "# Trying to convert the image \n",
    "img.thumbnail(THUMBNAIL_SIZE)\n",
    "img.save(DATA_PATH+'new_thumbnail.png', 'PNG')"
   ]
  },
  {
   "cell_type": "markdown",
   "metadata": {},
   "source": [
    "[2] Cropping the image region and doing some stuff<br>\n",
    "(a,b,c,d) -> space from (left, top, right, bottom)"
   ]
  },
  {
   "cell_type": "code",
   "execution_count": 69,
   "metadata": {},
   "outputs": [
    {
     "name": "stdout",
     "output_type": "stream",
     "text": [
      "(340, 340)\n"
     ]
    }
   ],
   "source": [
    "img = Image.open(IMG_PATH)\n",
    "print(img.size)\n",
    "crop_box = (20,20,320,320)\n",
    "\n",
    "region = img.crop(crop_box)\n",
    "region = region.transpose(Image.Transpose.ROTATE_90)       # Rotating rhe image 90deg\n",
    "img.paste(region,crop_box)                                  # Pasting the aimage again in its old position but changed\n",
    "# img.show()\n",
    "img.save(DATA_PATH+'transposed_cat.png', 'PNG')"
   ]
  },
  {
   "cell_type": "markdown",
   "metadata": {},
   "source": [
    "[3] Rolling the image"
   ]
  },
  {
   "cell_type": "code",
   "execution_count": 49,
   "metadata": {},
   "outputs": [],
   "source": [
    "def roll(im, delta):\n",
    "    \"\"\"Roll an image sideways.\"\"\"\n",
    "    xsize, ysize = im.size\n",
    "\n",
    "    delta = delta % xsize\n",
    "    if delta == 0:\n",
    "        return im\n",
    "\n",
    "    part1 = im.crop((0, 0, delta, ysize))\n",
    "    part2 = im.crop((delta, 0, xsize, ysize))\n",
    "    im.paste(part1, (xsize - delta, 0, xsize, ysize))\n",
    "    im.paste(part2, (0, 0, xsize - delta, ysize))\n",
    "\n",
    "    return im\n",
    "\n",
    "img = Image.open(IMG_PATH)\n",
    "new_img = roll(img, img.size[0]//2)                     # Rolling the immage the half x dim, just in middle\n",
    "new_img.show()"
   ]
  },
  {
   "cell_type": "markdown",
   "metadata": {},
   "source": [
    "[4] Creating two images and merging them"
   ]
  },
  {
   "cell_type": "code",
   "execution_count": 72,
   "metadata": {},
   "outputs": [],
   "source": [
    "crop_box = (40,40,300,300)\n",
    "img = Image.open(IMG_PATH)\n",
    "img2 = img.copy()\n",
    "\n",
    "region = img.crop(crop_box)\n",
    "region = region.transpose(Image.Transpose.ROTATE_90)\n",
    "img.paste(region, crop_box)\n",
    "\n",
    "new_width = img.size[0] + img2.size[0]                  # Obtaining the end x value\n",
    "new_height = max(img.size[1], img2.size[1])             # Y value\n",
    "\n",
    "new_img = Image.new('RGB', (new_width, new_height))    # Creating totally new img\n",
    "new_img.paste(img)                                      # Pasting the image in 0x,y0\n",
    "new_img.paste(img2, (img.size[0],0))                    # Pasting the img 2 at the end of the img and on top of the new Image\n",
    "\n",
    "new_img.save(DATA_PATH+'two_images.jpeg', 'JPEG')\n",
    "# new_img.show()"
   ]
  },
  {
   "cell_type": "markdown",
   "metadata": {},
   "source": [
    "[5] You can split the image bands if you need to work with them"
   ]
  },
  {
   "cell_type": "code",
   "execution_count": 74,
   "metadata": {},
   "outputs": [],
   "source": [
    "img = Image.open(IMG_PATH)\n",
    "r, g, b = img.split()                                    # Obtaining the image splitted in their bands\n",
    "\n",
    "b.save(DATA_PATH+'black_white.png', 'PNG')               # So, we obtain the black band\n",
    "\n",
    "merged = Image.merge('RGB', (g,b,r))                     # Merging the image bands again but in different order\n",
    "\n",
    "merged.save(DATA_PATH+'split_5.jpeg', 'JPEG')\n",
    "merged.show()\n"
   ]
  },
  {
   "cell_type": "markdown",
   "metadata": {},
   "source": [
    "[6] Geometry transforms and resizing"
   ]
  },
  {
   "cell_type": "code",
   "execution_count": 79,
   "metadata": {},
   "outputs": [
    {
     "name": "stdout",
     "output_type": "stream",
     "text": [
      "Ond size: (340, 340), New size: (64, 64)\n"
     ]
    }
   ],
   "source": [
    "img = Image.open(IMG_PATH)\n",
    "\n",
    "resized_img = img.resize((64, 64))                              # Resizing the image into a new value\n",
    "print(f'Ond size: {img.size}, New size: {resized_img.size}')\n",
    "resized_img.save(DATA_PATH+'resized_6.jpeg', 'jpeg')\n",
    "\n",
    "rotated_img = img.rotate(60)                                    # Rotating the image 60deg in counter clockwise (with the base img as overflit:hidden)\n",
    "# rotated_img.show()          "
   ]
  },
  {
   "cell_type": "markdown",
   "metadata": {},
   "source": [
    "[7] CSS into Python with Pillow, oh Damn!"
   ]
  },
  {
   "cell_type": "code",
   "execution_count": 83,
   "metadata": {},
   "outputs": [],
   "source": [
    "from PIL import Image, ImageOps\n",
    "\n",
    "img = Image.open(IMG_PATH)\n",
    "\n",
    "size = (150, 300)\n",
    "\n",
    "ImageOps.contain(img, size).save(DATA_PATH+'/like_css/contain.jpeg')                # Lke in CSS object-fit:contain \n",
    "ImageOps.cover(img, size).save(DATA_PATH+'/like_css/cover.jpeg')                    # By max value, so occupy all the space\n",
    "ImageOps.fit(img, size).save(DATA_PATH+'/like_css/fit.jpeg')                        # Lke in CSS object-fit:cover\n",
    "ImageOps.pad(img, size, color=\"#f2f2f2\").save(DATA_PATH+'/like_css/pad.jpeg')       # CSS object-fit:contain but adds colored padding for white spaces\n"
   ]
  },
  {
   "cell_type": "markdown",
   "metadata": {},
   "source": [
    "[8] Color transformations <br>"
   ]
  },
  {
   "cell_type": "code",
   "execution_count": 16,
   "metadata": {},
   "outputs": [],
   "source": [
    "from PIL import Image\n",
    "\n",
    "\"\"\"\n",
    "The library supports transformations between each supported mode and the “L” and “RGB” modes. \n",
    "To convert between other modes, you may have to use an intermediate image (typically an “RGB” image).\n",
    "\n",
    "    1 (1-bit pixels, black and white, stored with one pixel per byte)\n",
    "\n",
    "    L (8-bit pixels, grayscale)\n",
    "\n",
    "    P (8-bit pixels, mapped to any other mode using a color palette)\n",
    "\n",
    "    RGB (3x8-bit pixels, true color)\n",
    "\n",
    "    RGBA (4x8-bit pixels, true color with transparency mask)\n",
    "\n",
    "    CMYK (4x8-bit pixels, color separation)\n",
    "\n",
    "    YCbCr (3x8-bit pixels, color video format) Note that this refers to the JPEG, and not the ITU-R BT.2020, standard\n",
    "\n",
    "    LAB (3x8-bit pixels, the L*a*b color space)\n",
    "\n",
    "    HSV (3x8-bit pixels, Hue, Saturation, Value color space) Hue’s range of 0-255 is a scaled version of 0 degrees <= Hue < 360 degrees\n",
    "\n",
    "    I (32-bit signed integer pixels)\n",
    "\n",
    "    F (32-bit floating point pixels)\n",
    "\"\"\"\n",
    "with Image.open(IMG_PATH) as img:\n",
    "    new_img = img.convert(\"L\")          # Gray Scale (L = R * 299/1000 + G * 587/1000 + B * 114/1000)\n",
    "    new_img = img.convert(\"1\")\n",
    "\n",
    "    # The following example converts an RGB image (linearly calibrated according to ITU-R 709, using the D65 luminant) to the CIE XYZ color space:\n",
    "    rgb2xyz = (\n",
    "        0.412453, 0.357580, 0.180423, 0,\n",
    "        0.212671, 0.715160, 0.072169, 0,\n",
    "        0.019334, 0.119193, 0.950227, 0\n",
    "    )\n",
    "    new_img = img.convert(\"RGB\", rgb2xyz)\n",
    "    new_img.show()"
   ]
  },
  {
   "cell_type": "markdown",
   "metadata": {},
   "source": [
    "[7] Image Filters"
   ]
  },
  {
   "cell_type": "code",
   "execution_count": 3,
   "metadata": {},
   "outputs": [],
   "source": [
    "from PIL import Image, ImageFilter\n",
    "\n",
    "\"\"\" \n",
    "    Pillow provides some predefined filters:\n",
    "    BLUR\n",
    "    CONTOUR\n",
    "    DETAIL\n",
    "    EDGE_ENHANCE\n",
    "    EDGE_ENHANCE_MORE\n",
    "    EMBOSS\n",
    "    FIND_EDGES\n",
    "    SHARPEN\n",
    "    SMOOTH\n",
    "    SMOOTH_MORE\n",
    "\"\"\"\n",
    "\n",
    "img = Image.open(IMG_PATH)\n",
    "\n",
    "\"\"\" \n",
    "The EMBOSS filter is used to create a three-dimensional effect in an image by highlighting edges and structures. \n",
    "It works by calculating differences between adjacent pixels in the image and adjusting pixel values based on these calculations.\n",
    "\"\"\"\n",
    "new_img = img.filter(ImageFilter.EMBOSS)\n",
    "new_img.show()\n",
    "new_img.save(DATA_PATH+'EMBOSS_7.png')"
   ]
  },
  {
   "cell_type": "markdown",
   "metadata": {},
   "source": [
    "[8] Points operations"
   ]
  },
  {
   "cell_type": "code",
   "execution_count": 15,
   "metadata": {},
   "outputs": [],
   "source": [
    "\"\"\"\n",
    "The point() method can be used to translate the pixel values of an image (e.g. image contrast manipulation). \n",
    "In most cases, a function object expecting one argument can be passed to this method. Each pixel is processed according to that function:\n",
    "\"\"\"\n",
    "from PIL import Image \n",
    "\n",
    "img = Image.open(IMG_PATH)\n",
    "\n",
    "# Applynf point transforms\n",
    "new_img = img.point(lambda i: i*0.3) # Changing the image contrast\n",
    "# new_img.show()\n",
    "\n",
    "\n",
    "# Playing with the individual bandas of the image \n",
    "# Obtaining the image bands \n",
    "i_bands = img.split()\n",
    "\n",
    "R,G,B = 0, 1, 2\n",
    "\n",
    "# Selecting the regions with the RED Band color intensity is less than 100, in the pic is the white area\n",
    "mask = i_bands[R].point(lambda i: i < 100 and 255)          # The and 255 in binary is 11111111, so we limit the range between 0 and 255 deleting possible errors\n",
    "\n",
    "out = i_bands[G].point(lambda i: i*0.7)                     # Procdessing th egreen band\n",
    "\n",
    "# Paste the processed band back, but only where red was < 100\n",
    "i_bands[G].paste(out, None, mask) # Image.paste(im, box=None, mask=None)\n",
    "\n",
    "i_bands[G].show()\n"
   ]
  },
  {
   "cell_type": "code",
   "execution_count": null,
   "metadata": {},
   "outputs": [],
   "source": []
  }
 ],
 "metadata": {
  "kernelspec": {
   "display_name": ".env",
   "language": "python",
   "name": "python3"
  },
  "language_info": {
   "codemirror_mode": {
    "name": "ipython",
    "version": 3
   },
   "file_extension": ".py",
   "mimetype": "text/x-python",
   "name": "python",
   "nbconvert_exporter": "python",
   "pygments_lexer": "ipython3",
   "version": "3.11.5"
  }
 },
 "nbformat": 4,
 "nbformat_minor": 2
}
