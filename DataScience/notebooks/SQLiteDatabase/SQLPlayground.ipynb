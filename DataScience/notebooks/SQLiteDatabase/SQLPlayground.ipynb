{
 "cells": [
  {
   "cell_type": "code",
   "execution_count": 12,
   "metadata": {},
   "outputs": [],
   "source": [
    "import sqlite3\n",
    "\n",
    "# General variables \n",
    "DATA_PATH = './../../../data/sqlite_data/'\n",
    "\n",
    "db_path = DATA_PATH + 'poc.db'"
   ]
  },
  {
   "cell_type": "code",
   "execution_count": 13,
   "metadata": {},
   "outputs": [],
   "source": [
    "sql_command = \"\"\"CREATE TABLE IF NOT EXISTS users_poc (\n",
    "    usr_id CHAR(64) PRIMARY KEY, -- 64 Chars: keccak_256\n",
    "    name VARCHAR(25),\n",
    "    email VARCHAR(30) UNIQUE\n",
    ");\"\"\""
   ]
  },
  {
   "cell_type": "code",
   "execution_count": 14,
   "metadata": {},
   "outputs": [],
   "source": [
    "# Pray to GOD if this is in Prod, or simply check the command 1000 times xD\n",
    "db_connection = sqlite3.connect(db_path)\n",
    "cursor = db_connection.cursor()\n",
    "\n",
    "cursor.execute(sql_command)\n",
    "\n",
    "db_connection.commit() \n",
    "db_connection.close()"
   ]
  },
  {
   "cell_type": "markdown",
   "metadata": {},
   "source": [
    "Inserting into table"
   ]
  },
  {
   "cell_type": "code",
   "execution_count": 15,
   "metadata": {},
   "outputs": [],
   "source": [
    "import secrets\n",
    "\n",
    "def getIDKey():\n",
    "    return secrets.token_hex(nbytes=32)"
   ]
  },
  {
   "cell_type": "code",
   "execution_count": 16,
   "metadata": {},
   "outputs": [],
   "source": [
    "# values\n",
    "id1= getIDKey()\n",
    "name1 = \"Adolf\"\n",
    "email1 = \"adolf1@gmail.com\"\n",
    "\n",
    "id2= getIDKey()\n",
    "name2 = \"Adolf2\"\n",
    "email2 = \"adolf2@gmail.com\"\n",
    "\n",
    "id3= getIDKey()\n",
    "name3 = \"Victoria\"\n",
    "email3 = \"vic@gmail.com\"\n",
    "\n",
    "sql_command ='INSERT OR IGNORE INTO users_poc (usr_id, name, email) VALUES (?,?,?)'"
   ]
  },
  {
   "cell_type": "code",
   "execution_count": 17,
   "metadata": {},
   "outputs": [],
   "source": [
    "db_connection = sqlite3.connect(db_path, timeout=10)\n",
    "cursor = db_connection.cursor()\n",
    "\n",
    "cursor.execute(sql_command, (id1, name1, email1))\n",
    "cursor.execute(sql_command, (id2, name2, email2))\n",
    "cursor.execute(sql_command, (id3, name3, email3))\n",
    "\n",
    "# Yep, close the Fu... DB\n",
    "db_connection.commit()  # Commit to finalize the changes\n",
    "db_connection.close()"
   ]
  },
  {
   "cell_type": "markdown",
   "metadata": {},
   "source": [
    "Show Data"
   ]
  },
  {
   "cell_type": "code",
   "execution_count": 18,
   "metadata": {},
   "outputs": [],
   "source": [
    "import pandas as pd\n",
    "\n",
    "def showData():\n",
    "    db_connection = sqlite3.connect(db_path)\n",
    "    cursor = db_connection.cursor()\n",
    "\n",
    "    cursor.execute(\"SELECT * FROM users_poc\")\n",
    "    data = cursor.fetchall()\n",
    "\n",
    "    # Yep, close the Fu... DB\n",
    "    db_connection.commit()  # Commit to finalize the changes\n",
    "    db_connection.close()\n",
    "\n",
    "    return pd.DataFrame(data, columns=['USR_ID','NAME','EMAIL']).set_index('USR_ID')"
   ]
  },
  {
   "cell_type": "code",
   "execution_count": 19,
   "metadata": {},
   "outputs": [
    {
     "data": {
      "text/html": [
       "<div>\n",
       "<style scoped>\n",
       "    .dataframe tbody tr th:only-of-type {\n",
       "        vertical-align: middle;\n",
       "    }\n",
       "\n",
       "    .dataframe tbody tr th {\n",
       "        vertical-align: top;\n",
       "    }\n",
       "\n",
       "    .dataframe thead th {\n",
       "        text-align: right;\n",
       "    }\n",
       "</style>\n",
       "<table border=\"1\" class=\"dataframe\">\n",
       "  <thead>\n",
       "    <tr style=\"text-align: right;\">\n",
       "      <th></th>\n",
       "      <th>NAME</th>\n",
       "      <th>EMAIL</th>\n",
       "    </tr>\n",
       "    <tr>\n",
       "      <th>USR_ID</th>\n",
       "      <th></th>\n",
       "      <th></th>\n",
       "    </tr>\n",
       "  </thead>\n",
       "  <tbody>\n",
       "    <tr>\n",
       "      <th>17c25f5d18c1fa846deded4f4be1fc4b8ce315401edf26999a114b590bab197c</th>\n",
       "      <td>Adolf</td>\n",
       "      <td>adolf1@gmail.com</td>\n",
       "    </tr>\n",
       "    <tr>\n",
       "      <th>553c5018f8720d9cd170876458733b4aa495a19dbb12ffe3537c9daf7f6fffca</th>\n",
       "      <td>Adolf2</td>\n",
       "      <td>adolf2@gmail.com</td>\n",
       "    </tr>\n",
       "    <tr>\n",
       "      <th>a0cd4ec66fa57b409422151d6a91305f9ad4c458810e7f7a4dec009c8ac2cea5</th>\n",
       "      <td>Victoria</td>\n",
       "      <td>vic@gmail.com</td>\n",
       "    </tr>\n",
       "  </tbody>\n",
       "</table>\n",
       "</div>"
      ],
      "text/plain": [
       "                                                        NAME             EMAIL\n",
       "USR_ID                                                                        \n",
       "17c25f5d18c1fa846deded4f4be1fc4b8ce315401edf269...     Adolf  adolf1@gmail.com\n",
       "553c5018f8720d9cd170876458733b4aa495a19dbb12ffe...    Adolf2  adolf2@gmail.com\n",
       "a0cd4ec66fa57b409422151d6a91305f9ad4c458810e7f7...  Victoria     vic@gmail.com"
      ]
     },
     "execution_count": 19,
     "metadata": {},
     "output_type": "execute_result"
    }
   ],
   "source": [
    "# import pandas as pd \n",
    "\n",
    "# df = pd.DataFrame(data, columns=['USR_ID','NAME','EMAIL']).set_index('USR_ID')\n",
    "# df\n",
    "\n",
    "showData()"
   ]
  },
  {
   "cell_type": "markdown",
   "metadata": {},
   "source": [
    "Update value"
   ]
  },
  {
   "cell_type": "code",
   "execution_count": 20,
   "metadata": {},
   "outputs": [
    {
     "data": {
      "text/html": [
       "<div>\n",
       "<style scoped>\n",
       "    .dataframe tbody tr th:only-of-type {\n",
       "        vertical-align: middle;\n",
       "    }\n",
       "\n",
       "    .dataframe tbody tr th {\n",
       "        vertical-align: top;\n",
       "    }\n",
       "\n",
       "    .dataframe thead th {\n",
       "        text-align: right;\n",
       "    }\n",
       "</style>\n",
       "<table border=\"1\" class=\"dataframe\">\n",
       "  <thead>\n",
       "    <tr style=\"text-align: right;\">\n",
       "      <th></th>\n",
       "      <th>NAME</th>\n",
       "      <th>EMAIL</th>\n",
       "    </tr>\n",
       "    <tr>\n",
       "      <th>USR_ID</th>\n",
       "      <th></th>\n",
       "      <th></th>\n",
       "    </tr>\n",
       "  </thead>\n",
       "  <tbody>\n",
       "    <tr>\n",
       "      <th>17c25f5d18c1fa846deded4f4be1fc4b8ce315401edf26999a114b590bab197c</th>\n",
       "      <td>Adolf</td>\n",
       "      <td>adolf1@gmail.com</td>\n",
       "    </tr>\n",
       "    <tr>\n",
       "      <th>553c5018f8720d9cd170876458733b4aa495a19dbb12ffe3537c9daf7f6fffca</th>\n",
       "      <td>Jenny</td>\n",
       "      <td>jenny@gmail.com</td>\n",
       "    </tr>\n",
       "    <tr>\n",
       "      <th>a0cd4ec66fa57b409422151d6a91305f9ad4c458810e7f7a4dec009c8ac2cea5</th>\n",
       "      <td>Victoria</td>\n",
       "      <td>vic@gmail.com</td>\n",
       "    </tr>\n",
       "  </tbody>\n",
       "</table>\n",
       "</div>"
      ],
      "text/plain": [
       "                                                        NAME             EMAIL\n",
       "USR_ID                                                                        \n",
       "17c25f5d18c1fa846deded4f4be1fc4b8ce315401edf269...     Adolf  adolf1@gmail.com\n",
       "553c5018f8720d9cd170876458733b4aa495a19dbb12ffe...     Jenny   jenny@gmail.com\n",
       "a0cd4ec66fa57b409422151d6a91305f9ad4c458810e7f7...  Victoria     vic@gmail.com"
      ]
     },
     "execution_count": 20,
     "metadata": {},
     "output_type": "execute_result"
    }
   ],
   "source": [
    "db_connection = sqlite3.connect(db_path)\n",
    "cursor = db_connection.cursor()\n",
    "\n",
    "cursor.execute(\"UPDATE OR IGNORE users_poc SET name='Jenny', email='jenny@gmail.com' WHERE name='Adolf2'\")\n",
    "\n",
    "# Yep, close the Fu... DB\n",
    "db_connection.commit()  # Commit to finalize the changes\n",
    "db_connection.close()\n",
    "\n",
    "showData()"
   ]
  },
  {
   "cell_type": "markdown",
   "metadata": {},
   "source": [
    "Drop table"
   ]
  },
  {
   "cell_type": "code",
   "execution_count": 21,
   "metadata": {},
   "outputs": [],
   "source": [
    "def dropTable():\n",
    "    db_connection = sqlite3.connect(db_path)\n",
    "    cursor = db_connection.cursor()\n",
    "\n",
    "    cursor.execute(\"DROP TABLE users_poc\")\n",
    "\n",
    "    # Yep, close the Fu... DB\n",
    "    db_connection.commit()  # Commit to finalize the changes\n",
    "    db_connection.close()"
   ]
  },
  {
   "cell_type": "code",
   "execution_count": 22,
   "metadata": {},
   "outputs": [],
   "source": [
    "dropTable()"
   ]
  },
  {
   "cell_type": "code",
   "execution_count": null,
   "metadata": {},
   "outputs": [],
   "source": []
  }
 ],
 "metadata": {
  "kernelspec": {
   "display_name": ".env",
   "language": "python",
   "name": "python3"
  },
  "language_info": {
   "codemirror_mode": {
    "name": "ipython",
    "version": 3
   },
   "file_extension": ".py",
   "mimetype": "text/x-python",
   "name": "python",
   "nbconvert_exporter": "python",
   "pygments_lexer": "ipython3",
   "version": "3.11.5"
  }
 },
 "nbformat": 4,
 "nbformat_minor": 2
}
