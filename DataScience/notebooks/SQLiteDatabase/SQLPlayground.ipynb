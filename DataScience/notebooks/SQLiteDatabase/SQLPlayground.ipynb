{
 "cells": [
  {
   "cell_type": "code",
   "execution_count": 1,
   "metadata": {},
   "outputs": [],
   "source": [
    "import sqlite3\n",
    "\n",
    "# General variables \n",
    "DATA_PATH = './../../../data/sqlite_data/'\n",
    "\n",
    "db_path = DATA_PATH + 'poc.db'"
   ]
  },
  {
   "cell_type": "code",
   "execution_count": 2,
   "metadata": {},
   "outputs": [],
   "source": [
    "sql_command = \"\"\"CREATE TABLE IF NOT EXISTS users_poc (\n",
    "    usr_id CHAR(64) PRIMARY KEY, -- 64 Chars: keccak_256\n",
    "    name VARCHAR(25),\n",
    "    email VARCHAR(30) UNIQUE\n",
    ");\"\"\""
   ]
  },
  {
   "cell_type": "code",
   "execution_count": 3,
   "metadata": {},
   "outputs": [],
   "source": [
    "# Pray to GOD if this is in Prod, or simply check the command 1000 times xD\n",
    "db_connection = sqlite3.connect(db_path)\n",
    "cursor = db_connection.cursor()\n",
    "\n",
    "cursor.execute(sql_command)\n",
    "\n",
    "db_connection.commit() \n",
    "db_connection.close()"
   ]
  },
  {
   "cell_type": "markdown",
   "metadata": {},
   "source": [
    "Inserting into table"
   ]
  },
  {
   "cell_type": "code",
   "execution_count": 4,
   "metadata": {},
   "outputs": [],
   "source": [
    "import secrets\n",
    "\n",
    "def getIDKey():\n",
    "    return secrets.token_hex(nbytes=32)"
   ]
  },
  {
   "cell_type": "code",
   "execution_count": 5,
   "metadata": {},
   "outputs": [],
   "source": [
    "# values\n",
    "id1= getIDKey()\n",
    "name1 = \"Adolf\"\n",
    "email1 = \"adolf1@gmail.com\"\n",
    "\n",
    "id2= getIDKey()\n",
    "name2 = \"Adolf2\"\n",
    "email2 = \"adolf2@gmail.com\"\n",
    "\n",
    "id3= getIDKey()\n",
    "name3 = \"Victoria\"\n",
    "email3 = \"vic@gmail.com\"\n",
    "\n",
    "sql_command ='INSERT OR IGNORE INTO users_poc (usr_id, name, email) VALUES (?,?,?)'"
   ]
  },
  {
   "cell_type": "code",
   "execution_count": 6,
   "metadata": {},
   "outputs": [],
   "source": [
    "db_connection = sqlite3.connect(db_path, timeout=10)\n",
    "cursor = db_connection.cursor()\n",
    "\n",
    "cursor.execute(sql_command, (id1, name1, email1))\n",
    "cursor.execute(sql_command, (id2, name2, email2))\n",
    "cursor.execute(sql_command, (id3, name3, email3))\n",
    "\n",
    "# Yep, close the Fu... DB\n",
    "db_connection.commit()  # Commit to finalize the changes\n",
    "db_connection.close()"
   ]
  },
  {
   "cell_type": "markdown",
   "metadata": {},
   "source": [
    "Show Data"
   ]
  },
  {
   "cell_type": "code",
   "execution_count": 7,
   "metadata": {},
   "outputs": [],
   "source": [
    "import pandas as pd\n",
    "\n",
    "def showData():\n",
    "    db_connection = sqlite3.connect(db_path)\n",
    "    cursor = db_connection.cursor()\n",
    "\n",
    "    cursor.execute(\"SELECT * FROM users_poc\")\n",
    "    data = cursor.fetchall()\n",
    "\n",
    "    # Yep, close the Fu... DB\n",
    "    db_connection.commit()  # Commit to finalize the changes\n",
    "    db_connection.close()\n",
    "\n",
    "    return pd.DataFrame(data, columns=['USR_ID','NAME','EMAIL']).set_index('USR_ID')"
   ]
  },
  {
   "cell_type": "code",
   "execution_count": 8,
   "metadata": {},
   "outputs": [
    {
     "data": {
      "text/html": [
       "<div>\n",
       "<style scoped>\n",
       "    .dataframe tbody tr th:only-of-type {\n",
       "        vertical-align: middle;\n",
       "    }\n",
       "\n",
       "    .dataframe tbody tr th {\n",
       "        vertical-align: top;\n",
       "    }\n",
       "\n",
       "    .dataframe thead th {\n",
       "        text-align: right;\n",
       "    }\n",
       "</style>\n",
       "<table border=\"1\" class=\"dataframe\">\n",
       "  <thead>\n",
       "    <tr style=\"text-align: right;\">\n",
       "      <th></th>\n",
       "      <th>NAME</th>\n",
       "      <th>EMAIL</th>\n",
       "    </tr>\n",
       "    <tr>\n",
       "      <th>USR_ID</th>\n",
       "      <th></th>\n",
       "      <th></th>\n",
       "    </tr>\n",
       "  </thead>\n",
       "  <tbody>\n",
       "    <tr>\n",
       "      <th>f11647996a94e0591343c693b34968c8518f563578aac85c57aa739460366a8b</th>\n",
       "      <td>Adolf</td>\n",
       "      <td>adolf1@gmail.com</td>\n",
       "    </tr>\n",
       "    <tr>\n",
       "      <th>ecc05eccba2744031a2ec89f57fdbcbe1838abdc3cc42b620856481d92e92bb3</th>\n",
       "      <td>Jenny</td>\n",
       "      <td>jenny@gmail.com</td>\n",
       "    </tr>\n",
       "    <tr>\n",
       "      <th>768ee180394afd886676dd0579ae5ac232a7c9563c56cd93d2bbd20221c4c911</th>\n",
       "      <td>Victoria</td>\n",
       "      <td>vic@gmail.com</td>\n",
       "    </tr>\n",
       "    <tr>\n",
       "      <th>e0b97fc259349413f923398683a0d15d6f77aae761c78a503530e509ced304a0</th>\n",
       "      <td>Adolf2</td>\n",
       "      <td>adolf2@gmail.com</td>\n",
       "    </tr>\n",
       "  </tbody>\n",
       "</table>\n",
       "</div>"
      ],
      "text/plain": [
       "                                                        NAME             EMAIL\n",
       "USR_ID                                                                        \n",
       "f11647996a94e0591343c693b34968c8518f563578aac85...     Adolf  adolf1@gmail.com\n",
       "ecc05eccba2744031a2ec89f57fdbcbe1838abdc3cc42b6...     Jenny   jenny@gmail.com\n",
       "768ee180394afd886676dd0579ae5ac232a7c9563c56cd9...  Victoria     vic@gmail.com\n",
       "e0b97fc259349413f923398683a0d15d6f77aae761c78a5...    Adolf2  adolf2@gmail.com"
      ]
     },
     "execution_count": 8,
     "metadata": {},
     "output_type": "execute_result"
    }
   ],
   "source": [
    "# import pandas as pd \n",
    "\n",
    "# df = pd.DataFrame(data, columns=['USR_ID','NAME','EMAIL']).set_index('USR_ID')\n",
    "# df\n",
    "\n",
    "showData()"
   ]
  },
  {
   "cell_type": "markdown",
   "metadata": {},
   "source": [
    "Update value"
   ]
  },
  {
   "cell_type": "code",
   "execution_count": 9,
   "metadata": {},
   "outputs": [
    {
     "ename": "IntegrityError",
     "evalue": "UNIQUE constraint failed: users_poc.email",
     "output_type": "error",
     "traceback": [
      "\u001b[1;31m---------------------------------------------------------------------------\u001b[0m",
      "\u001b[1;31mIntegrityError\u001b[0m                            Traceback (most recent call last)",
      "Cell \u001b[1;32mIn[9], line 4\u001b[0m\n\u001b[0;32m      1\u001b[0m db_connection \u001b[38;5;241m=\u001b[39m sqlite3\u001b[38;5;241m.\u001b[39mconnect(db_path)\n\u001b[0;32m      2\u001b[0m cursor \u001b[38;5;241m=\u001b[39m db_connection\u001b[38;5;241m.\u001b[39mcursor()\n\u001b[1;32m----> 4\u001b[0m \u001b[43mcursor\u001b[49m\u001b[38;5;241;43m.\u001b[39;49m\u001b[43mexecute\u001b[49m\u001b[43m(\u001b[49m\u001b[38;5;124;43m\"\u001b[39;49m\u001b[38;5;124;43mUPDATE users_poc SET name=\u001b[39;49m\u001b[38;5;124;43m'\u001b[39;49m\u001b[38;5;124;43mJenny\u001b[39;49m\u001b[38;5;124;43m'\u001b[39;49m\u001b[38;5;124;43m, email=\u001b[39;49m\u001b[38;5;124;43m'\u001b[39;49m\u001b[38;5;124;43mjenny@gmail.com\u001b[39;49m\u001b[38;5;124;43m'\u001b[39;49m\u001b[38;5;124;43m WHERE name=\u001b[39;49m\u001b[38;5;124;43m'\u001b[39;49m\u001b[38;5;124;43mAdolf2\u001b[39;49m\u001b[38;5;124;43m'\u001b[39;49m\u001b[38;5;124;43m\"\u001b[39;49m\u001b[43m)\u001b[49m\n\u001b[0;32m      6\u001b[0m \u001b[38;5;66;03m# Yep, close the Fu... DB\u001b[39;00m\n\u001b[0;32m      7\u001b[0m db_connection\u001b[38;5;241m.\u001b[39mcommit()  \u001b[38;5;66;03m# Commit to finalize the changes\u001b[39;00m\n",
      "\u001b[1;31mIntegrityError\u001b[0m: UNIQUE constraint failed: users_poc.email"
     ]
    }
   ],
   "source": [
    "db_connection = sqlite3.connect(db_path)\n",
    "cursor = db_connection.cursor()\n",
    "\n",
    "cursor.execute(\"UPDATE users_poc SET name='Jenny', email='jenny@gmail.com' WHERE name='Adolf2'\")\n",
    "\n",
    "# Yep, close the Fu... DB\n",
    "db_connection.commit()  # Commit to finalize the changes\n",
    "db_connection.close()\n",
    "\n",
    "showData()"
   ]
  },
  {
   "cell_type": "markdown",
   "metadata": {},
   "source": [
    "Drop table"
   ]
  },
  {
   "cell_type": "code",
   "execution_count": null,
   "metadata": {},
   "outputs": [],
   "source": [
    "def dropTable():\n",
    "    db_connection = sqlite3.connect(db_path)\n",
    "    cursor = db_connection.cursor()\n",
    "\n",
    "    cursor.execute(\"DROP TABLE users_poc\")\n",
    "\n",
    "    # Yep, close the Fu... DB\n",
    "    db_connection.commit()  # Commit to finalize the changes\n",
    "    db_connection.close()"
   ]
  },
  {
   "cell_type": "code",
   "execution_count": null,
   "metadata": {},
   "outputs": [
    {
     "ename": "OperationalError",
     "evalue": "database is locked",
     "output_type": "error",
     "traceback": [
      "\u001b[1;31m---------------------------------------------------------------------------\u001b[0m",
      "\u001b[1;31mOperationalError\u001b[0m                          Traceback (most recent call last)",
      "Cell \u001b[1;32mIn[12], line 1\u001b[0m\n\u001b[1;32m----> 1\u001b[0m \u001b[43mdropTable\u001b[49m\u001b[43m(\u001b[49m\u001b[43m)\u001b[49m\n",
      "Cell \u001b[1;32mIn[11], line 5\u001b[0m, in \u001b[0;36mdropTable\u001b[1;34m()\u001b[0m\n\u001b[0;32m      2\u001b[0m db_connection \u001b[38;5;241m=\u001b[39m sqlite3\u001b[38;5;241m.\u001b[39mconnect(db_path)\n\u001b[0;32m      3\u001b[0m cursor \u001b[38;5;241m=\u001b[39m db_connection\u001b[38;5;241m.\u001b[39mcursor()\n\u001b[1;32m----> 5\u001b[0m \u001b[43mcursor\u001b[49m\u001b[38;5;241;43m.\u001b[39;49m\u001b[43mexecute\u001b[49m\u001b[43m(\u001b[49m\u001b[38;5;124;43m\"\u001b[39;49m\u001b[38;5;124;43mDROP TABLE users_poc\u001b[39;49m\u001b[38;5;124;43m\"\u001b[39;49m\u001b[43m)\u001b[49m\n\u001b[0;32m      7\u001b[0m \u001b[38;5;66;03m# Yep, close the Fu... DB\u001b[39;00m\n\u001b[0;32m      8\u001b[0m db_connection\u001b[38;5;241m.\u001b[39mcommit()  \u001b[38;5;66;03m# Commit to finalize the changes\u001b[39;00m\n",
      "\u001b[1;31mOperationalError\u001b[0m: database is locked"
     ]
    }
   ],
   "source": [
    "# dropTable()"
   ]
  },
  {
   "cell_type": "code",
   "execution_count": null,
   "metadata": {},
   "outputs": [],
   "source": []
  }
 ],
 "metadata": {
  "kernelspec": {
   "display_name": ".env",
   "language": "python",
   "name": "python3"
  },
  "language_info": {
   "codemirror_mode": {
    "name": "ipython",
    "version": 3
   },
   "file_extension": ".py",
   "mimetype": "text/x-python",
   "name": "python",
   "nbconvert_exporter": "python",
   "pygments_lexer": "ipython3",
   "version": "3.11.5"
  }
 },
 "nbformat": 4,
 "nbformat_minor": 2
}
