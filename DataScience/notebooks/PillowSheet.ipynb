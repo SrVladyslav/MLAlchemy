{
 "cells": [
  {
   "cell_type": "markdown",
   "metadata": {},
   "source": [
    "This document is created to remember and have some stuff about Pillow Library to copy paste in the future"
   ]
  },
  {
   "cell_type": "code",
   "execution_count": 35,
   "metadata": {},
   "outputs": [],
   "source": [
    "# General variables \n",
    "DATA_PATH = './../../data/pillow_data/'\n",
    "IMG_PATH = './../../data/cat.jpg'\n",
    "\n",
    "THUMBNAIL_SIZE = (64, 64)\n"
   ]
  },
  {
   "cell_type": "code",
   "execution_count": 33,
   "metadata": {},
   "outputs": [
    {
     "name": "stdout",
     "output_type": "stream",
     "text": [
      "JPEG (340, 340) RGB\n"
     ]
    }
   ],
   "source": [
    "from PIL import Image\n",
    "\n",
    "# Load an Image from scraptch and obtain its full info\n",
    "img = Image.open(IMG_PATH)      # Image reading from the disk\n",
    "\n",
    "print(\n",
    "    img.format,                 # Image format (JPG, PNG, PPT...)\n",
    "    img.size,                   # Image Size XY\n",
    "    img.mode                    # Image mode, RGB or black & whites\n",
    ")\n",
    "\n",
    "img.show()"
   ]
  },
  {
   "cell_type": "markdown",
   "metadata": {},
   "source": [
    "Creating a PNG thumbnails"
   ]
  },
  {
   "cell_type": "code",
   "execution_count": 37,
   "metadata": {},
   "outputs": [],
   "source": [
    "img = Image.open(IMG_PATH)\n",
    "\n",
    "# Trying to convert the image \n",
    "img.thumbnail(THUMBNAIL_SIZE)\n",
    "img.save(DATA_PATH+'new_thumbnail.png', 'PNG')"
   ]
  },
  {
   "cell_type": "markdown",
   "metadata": {},
   "source": [
    "Cropping the image region and doing some stuff<br>\n",
    "(a,b,c,d) -> space from (left, top, right, bottom)"
   ]
  },
  {
   "cell_type": "code",
   "execution_count": 48,
   "metadata": {},
   "outputs": [
    {
     "name": "stdout",
     "output_type": "stream",
     "text": [
      "(340, 340)\n"
     ]
    }
   ],
   "source": [
    "img = Image.open(IMG_PATH)\n",
    "print(img.size)\n",
    "crop_box = (20,20,320,320)\n",
    "\n",
    "region = img.crop(crop_box)\n",
    "region = region.transpose(Image.Transpose.ROTATE_90)       # Rotating rhe image 90deg\n",
    "img.paste(region,crop_box)                                  # Pasting the aimage again in its old position but changed\n",
    "img.show()\n",
    "# img.save(DATA_PATH+'transposed_cat.png', 'PNG')"
   ]
  },
  {
   "cell_type": "code",
   "execution_count": 49,
   "metadata": {},
   "outputs": [],
   "source": [
    "def roll(im, delta):\n",
    "    \"\"\"Roll an image sideways.\"\"\"\n",
    "    xsize, ysize = im.size\n",
    "\n",
    "    delta = delta % xsize\n",
    "    if delta == 0:\n",
    "        return im\n",
    "\n",
    "    part1 = im.crop((0, 0, delta, ysize))\n",
    "    part2 = im.crop((delta, 0, xsize, ysize))\n",
    "    im.paste(part1, (xsize - delta, 0, xsize, ysize))\n",
    "    im.paste(part2, (0, 0, xsize - delta, ysize))\n",
    "\n",
    "    return im\n",
    "\n",
    "img = Image.open(IMG_PATH)\n",
    "new_img = roll(img, img.size[0]//2)                     # Rolling the immage the half x dim, just in middle\n",
    "new_img.show()"
   ]
  },
  {
   "cell_type": "markdown",
   "metadata": {},
   "source": [
    "Creating two images and merging them"
   ]
  },
  {
   "cell_type": "code",
   "execution_count": 56,
   "metadata": {},
   "outputs": [],
   "source": [
    "crop_box = (40,40,300,300)\n",
    "img = Image.open(IMG_PATH)\n",
    "img2 = img.copy()\n",
    "\n",
    "region = img.crop(crop_box)\n",
    "region = region.transpose(Image.Transpose.ROTATE_90)\n",
    "img.paste(region, crop_box)\n",
    "\n",
    "new_width = img.size[0] + img2.size[0]                  # Obtaining the end x value\n",
    "new_height = max(img.size[1], img2.size[1])             # Y value\n",
    "\n",
    "new_img = Image.new('RGBA', (new_width, new_height))    # Creating totally new img\n",
    "new_img.paste(img)                                      # Pasting the image in 0x,y0\n",
    "new_img.paste(img2, (img.size[0],0))                    # Pasting the img 2 at the end of the img and on top of the new Image\n",
    "new_img.show()"
   ]
  },
  {
   "cell_type": "markdown",
   "metadata": {},
   "source": [
    "You can split the image bands if you need to work with them"
   ]
  },
  {
   "cell_type": "code",
   "execution_count": 64,
   "metadata": {},
   "outputs": [],
   "source": [
    "img = Image.open(IMG_PATH)\n",
    "r, g, b = img.split()                                    # Obtaining the image splitted in their bands\n",
    "\n",
    "# b.save(DATA_PATH+'black_white.png', 'PNG')               # So, we obtain the black band\n",
    "\n",
    "merged = Image.merge('RGB', (b,g,r))                     # Merging the image bands again\n",
    "merged.show()"
   ]
  },
  {
   "cell_type": "code",
   "execution_count": null,
   "metadata": {},
   "outputs": [],
   "source": []
  }
 ],
 "metadata": {
  "kernelspec": {
   "display_name": ".env",
   "language": "python",
   "name": "python3"
  },
  "language_info": {
   "codemirror_mode": {
    "name": "ipython",
    "version": 3
   },
   "file_extension": ".py",
   "mimetype": "text/x-python",
   "name": "python",
   "nbconvert_exporter": "python",
   "pygments_lexer": "ipython3",
   "version": "3.11.5"
  }
 },
 "nbformat": 4,
 "nbformat_minor": 2
}
